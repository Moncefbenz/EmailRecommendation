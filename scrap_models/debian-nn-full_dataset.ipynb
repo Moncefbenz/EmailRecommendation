{
 "cells": [
  {
   "cell_type": "markdown",
   "metadata": {},
   "source": [
    "# Preprocessing, building a Pandas dataframe and saving it as a  .csv file"
   ]
  },
  {
   "cell_type": "code",
   "execution_count": 22,
   "metadata": {
    "scrolled": true
   },
   "outputs": [
    {
     "data": {
      "application/vnd.jupyter.widget-view+json": {
       "model_id": "95ae6559c05940388fee2636f78f839a",
       "version_major": 2,
       "version_minor": 0
      },
      "text/html": [
       "<p>Failed to display Jupyter Widget of type <code>HBox</code>.</p>\n",
       "<p>\n",
       "  If you're reading this message in the Jupyter Notebook or JupyterLab Notebook, it may mean\n",
       "  that the widgets JavaScript is still loading. If this message persists, it\n",
       "  likely means that the widgets JavaScript library is either not installed or\n",
       "  not enabled. See the <a href=\"https://ipywidgets.readthedocs.io/en/stable/user_install.html\">Jupyter\n",
       "  Widgets Documentation</a> for setup instructions.\n",
       "</p>\n",
       "<p>\n",
       "  If you're reading this message in another frontend (for example, a static\n",
       "  rendering on GitHub or <a href=\"https://nbviewer.jupyter.org/\">NBViewer</a>),\n",
       "  it may mean that your frontend doesn't currently support widgets.\n",
       "</p>\n"
      ],
      "text/plain": [
       "HBox(children=(IntProgress(value=0, max=23), HTML(value='')))"
      ]
     },
     "metadata": {},
     "output_type": "display_data"
    },
    {
     "name": "stdout",
     "output_type": "stream",
     "text": [
      "\n",
      "23\n"
     ]
    }
   ],
   "source": [
    "import re\n",
    "import sys\n",
    "import glob\n",
    "import string\n",
    "from pprint import pprint\n",
    "from collections import Counter, OrderedDict\n",
    "\n",
    "import spacy\n",
    "nlp = spacy.load('en',disable=['parser', 'tagger', 'ner'])\n",
    "import pandas as pd\n",
    "import numpy as np\n",
    "import seaborn as sns\n",
    "import matplotlib.pyplot as plt\n",
    "%matplotlib inline\n",
    "from tqdm import tqdm, tqdm_notebook, tnrange\n",
    "tqdm.pandas(desc='Progress')\n",
    "from sklearn.metrics import accuracy_score\n",
    "\n",
    "\n",
    "import torch\n",
    "import torch.nn as nn\n",
    "import torch.optim as optim\n",
    "import torch.nn.functional as F\n",
    "from torch.utils.data import Dataset, DataLoader\n",
    "from torch.nn.utils.rnn import pack_padded_sequence, pad_packed_sequence\n",
    "from torch.autograd import Variable\n",
    "\n",
    "import warnings\n",
    "warnings.filterwarnings('ignore')\n",
    "\n",
    "from IPython.core.interactiveshell import InteractiveShell\n",
    "InteractiveShell.ast_node_interactivity='all'\n",
    "\n",
    "folder_path = \"/home/niki/Documents/BE_Project/gcpEmailRecommendation/Scraping/mini_deb/*\"\n",
    "file_name = \"/home/niki/Documents/BE_Project/my_EmailRecommmendation/model/dataframe3.csv\"\n",
    "sys.path.insert(0, '/home/niki/Documents/BE_Project/my_EmailRecommmendation/Preprocessing')\n",
    "\n",
    "\n",
    "import preprocessing\n",
    "import read_file\n",
    "import datetime\n",
    "\n",
    "def extract_debian(text):\n",
    "    text = text.split('\\n\\n\\n')\n",
    "    header = text[0].split('\\n')\n",
    "    body = text[1]\n",
    "    sender = header[2].split(':')[1].split('<')[0]\n",
    "#     print('Sender',sender)\n",
    "#     print('Body \\n',body)\n",
    "    return sender,body\n",
    "\n",
    "def clean_debian(temp):\n",
    "    temp = re.sub('\\n+','\\n',temp)\n",
    "    temp = re.sub('\\n',' ',temp)\n",
    "    temp = re.sub('\\t',' ',temp)\n",
    "    temp = re.sub(' +',' ',temp)\n",
    "    return temp\n",
    "\n",
    "def deb_lemmatize(doc):        \n",
    "    doc = nlp(doc)\n",
    "    article, skl_texts = '',''\n",
    "    for w in doc:\n",
    "        if w.text != '\\n' and not w.is_stop and not w.is_punct and not w.like_num:\n",
    "            article += \" \" + w.lemma_\n",
    "        if w.text == '\\n':                \n",
    "            skl_texts += \" \" + article\n",
    "            article = ''       \n",
    "    return skl_texts\n",
    "\n",
    "def deb_toppostremoval(temp):\n",
    "    strings = temp.splitlines()\n",
    "    temp = ''\n",
    "    for st in strings:\n",
    "        st = st.strip()\n",
    "        if len(st)>0:\n",
    "            if st[0]=='>':\n",
    "                continue\n",
    "            else:\n",
    "                temp += '\\n' + st\n",
    "    return temp\n",
    "\n",
    "df = pd.DataFrame(columns=['body','replier', 'thread_no'])\n",
    "folder = glob.glob(folder_path)\n",
    "th_no = 0\n",
    "obj = preprocessing.preprocess()\n",
    "cnt = 0\n",
    "count_file = 0\n",
    "thread_list=[]\n",
    "try:\n",
    "    for fol in tqdm_notebook(folder):\n",
    "        files = glob.glob(fol+'/*.txt')\n",
    "        threads = []\n",
    "        for file in files:\n",
    "            ob = read_file.file_content(file)\n",
    "            ob.read_file_content()\n",
    "            threads.append(ob.mail)\n",
    "            count_file += 1\n",
    "        sorted_threads = sorted(threads, key=lambda ke: datetime.datetime.strptime(ke['Date'],'%a, %d %b %Y %H:%M:%S %z'))\n",
    "        thread_list.append(sorted_threads)\n",
    "except:\n",
    "    print(fol)\n",
    "print(len(thread_list))"
   ]
  },
  {
   "cell_type": "code",
   "execution_count": 23,
   "metadata": {},
   "outputs": [
    {
     "data": {
      "text/plain": [
       "83"
      ]
     },
     "execution_count": 23,
     "metadata": {},
     "output_type": "execute_result"
    },
    {
     "name": "stdout",
     "output_type": "stream",
     "text": [
      "NULL\n"
     ]
    },
    {
     "data": {
      "text/plain": [
       "83"
      ]
     },
     "execution_count": 23,
     "metadata": {},
     "output_type": "execute_result"
    },
    {
     "name": "stdout",
     "output_type": "stream",
     "text": [
      "NULL\n"
     ]
    },
    {
     "data": {
      "text/plain": [
       "83"
      ]
     },
     "execution_count": 23,
     "metadata": {},
     "output_type": "execute_result"
    },
    {
     "name": "stdout",
     "output_type": "stream",
     "text": [
      "NULL\n"
     ]
    },
    {
     "data": {
      "text/plain": [
       "83"
      ]
     },
     "execution_count": 23,
     "metadata": {},
     "output_type": "execute_result"
    },
    {
     "name": "stdout",
     "output_type": "stream",
     "text": [
      "NULL\n"
     ]
    },
    {
     "data": {
      "text/plain": [
       "83"
      ]
     },
     "execution_count": 23,
     "metadata": {},
     "output_type": "execute_result"
    },
    {
     "name": "stdout",
     "output_type": "stream",
     "text": [
      "NULL\n"
     ]
    },
    {
     "data": {
      "text/plain": [
       "83"
      ]
     },
     "execution_count": 23,
     "metadata": {},
     "output_type": "execute_result"
    },
    {
     "name": "stdout",
     "output_type": "stream",
     "text": [
      "NULL\n",
      "6\n",
      "184\n",
      "63\n",
      "23\n",
      "37\n",
      "37\n",
      "<bound method NDFrame.head of                                                  body replier thread_no\n",
      "0    Dear[day]end[person] need advice development ...       0         0\n",
      "1    Dear[day]end[person] need advice development ...       1         0\n",
      "2    Dear[day]end[person] need advice development ...       0         0\n",
      "3    Hi -PRON- would like try LZ[number] compress ...       2         1\n",
      "4    Hi -PRON- would like try LZ[number] compress ...       2         1\n",
      "5    Hi -PRON- would like try LZ[number] compress ...       2         1\n",
      "6    Package wnpp Owner Hilko Bengen < bengen@debi...       3         2\n",
      "7    Package wnpp Owner Hilko Bengen < bengen@debi...       3         2\n",
      "8    Package wnpp Owner Hilko Bengen < bengen@debi...       3         2\n",
      "9    On Tue [number] -[number] Afif Elghraoui writ...       4         3\n",
      "10   On Tue [number] -[number] Afif Elghraoui writ...       5         3\n",
      "11   On Tue [number] -[number] Afif Elghraoui writ...       4         3\n",
      "12   jvieira[number]@sapo.pt < jvieira[number]@sap...       0         4\n",
      "13   jvieira[number]@sapo.pt < jvieira[number]@sap...       6         4\n",
      "14   On Tue Jul [number]AM -[number] Don Armstrong...       7         5\n",
      "15   On Tue Jul [number]AM -[number] Don Armstrong...       6         5\n",
      "16   On Thu Sep [number]PM + Guido Günther write[p...       8         6\n",
      "17   On Thu Sep [number]PM + Guido Günther write[p...       9         6\n",
      "18   On Tue Dec Ben Hutchings write The infrastruc...      10         7\n",
      "19   On Tue Dec Ben Hutchings write The infrastruc...      11         7\n",
      "20   On Tue Dec Ben Hutchings write The infrastruc...      12         7\n",
      "21   On Sun Jul [number]PM + Mattia Rizzolo write ...      13         8\n",
      "22   On Sun Jul [number]PM + Mattia Rizzolo write ...      14         8\n",
      "23   On Sun Jul [number]PM + Mattia Rizzolo write ...      13         8\n",
      "24   Hello database source-)packages version relea...       0         9\n",
      "25   Hello database source-)packages version relea...      15         9\n",
      "26   Hello database source-)packages version relea...       9         9\n",
      "27   On Thu Apr [number]PM -[number] Nikolaus Rath...      16        10\n",
      "28   On Thu Apr [number]PM -[number] Nikolaus Rath...      17        10\n",
      "29   Package wnpp Severity wishlist Owner Stuart P...      18        11\n",
      "..                                                ...     ...       ...\n",
      "33   Hi On [number] Colin King write What intent u...      22        12\n",
      "34   Hi On [number] Colin King write What intent u...      21        12\n",
      "35   Package wnpp Severity wishlist Owner Fabian G...      18        13\n",
      "36   Package wnpp Severity wishlist Owner Fabian G...      23        13\n",
      "37   Package wnpp Severity wishlist Owner Fabian G...      23        13\n",
      "38   Hey pabs ’s current status AFAICT[me]ntion wa...      24        14\n",
      "39   Hey pabs ’s current status AFAICT[me]ntion wa...       0        14\n",
      "40   Dear While[person] love love alioth[person] k...      10        15\n",
      "41   Dear While[person] love love alioth[person] k...      20        15\n",
      "42   Dear While[person] love love alioth[person] k...      10        15\n",
      "43   On Thu Jun mariabisen@gmail.com write lzip av...      25        16\n",
      "44   On Thu Jun mariabisen@gmail.com write lzip av...      14        16\n",
      "45   Hi Debian developer This e mail[me]an maintai...       7        17\n",
      "46   Hi Debian developer This e mail[me]an maintai...      26        17\n",
      "47   Hi Debian developer This e mail[me]an maintai...      26        17\n",
      "48   Hi On Sat Mar [number]PM -[number] Jeremy Bic...      27        18\n",
      "49   Hi On Sat Mar [number]PM -[number] Jeremy Bic...       0        18\n",
      "50   Hi On Sat Mar [number]PM -[number] Jeremy Bic...      28        18\n",
      "51   On Tue Dec Anton Gladky write We not want mai...      29        19\n",
      "52   On Tue Dec Anton Gladky write We not want mai...      30        19\n",
      "53   On Tue Dec Anton Gladky write We not want mai...      31        19\n",
      "54   Package wnpp Severity wishlist Owner rouca@de...      32        20\n",
      "55   Package wnpp Severity wishlist Owner rouca@de...      33        20\n",
      "56   Package wnpp Severity wishlist Owner rouca@de...      32        20\n",
      "57   Moving -devel On [number]/[number]/[number] [...      34        21\n",
      "58   Moving -devel On [number]/[number]/[number] [...      35        21\n",
      "59   Moving -devel On [number]/[number]/[number] [...      34        21\n",
      "60   Dear developer[person] know debian freeze But...       0        22\n",
      "61   Dear developer[person] know debian freeze But...      36        22\n",
      "62   Dear developer[person] know debian freeze But...      29        22\n",
      "\n",
      "[63 rows x 3 columns]>\n"
     ]
    }
   ],
   "source": [
    "empty = open('null.txt','w')\n",
    "for thr in thread_list:\n",
    "    flag = 0\n",
    "    t = ''\n",
    "    for mail in thr:\n",
    "        temp = ''\n",
    "        count_file += 1\n",
    "        sender = mail['From']\n",
    "        temp   = mail['content']\n",
    "        temp = deb_toppostremoval(temp)\n",
    "        temp = deb_lemmatize(temp)\n",
    "        temp = clean_debian(temp)\n",
    "        if temp == '':\n",
    "            cnt += 1\n",
    "            empty.write(file + '\\n')\n",
    "            print('NULL')\n",
    "            continue\n",
    "        temp = obj.replace_tokens(temp)\n",
    "        if flag==0:\n",
    "            t = temp\n",
    "            flag = 1\n",
    "            continue\n",
    "    # Add start/end date of each thread  |> FLAG\n",
    "        df = df.append({'body': str(t),'replier':sender, 'thread_no':th_no}, ignore_index=True)\n",
    "        t = t + temp\n",
    "    th_no += 1\n",
    "\n",
    "empty.close()\n",
    "print(cnt)\n",
    "print(count_file)\n",
    "print(len(df['body']))\n",
    "print(len(df['thread_no'].unique()))\n",
    "print(len(df['replier'].unique()))\n",
    "rep_to_index = {}\n",
    "index = 0\n",
    "for rep in df['replier']:\n",
    "    if rep in rep_to_index:\n",
    "        continue\n",
    "    else:\n",
    "        rep_to_index[rep] = index\n",
    "        index += 1\n",
    "pprint(len(rep_to_index))\n",
    "for rep in df['replier']:\n",
    "    df.loc[df['replier']==rep,'replier'] = rep_to_index[rep]\n",
    "\n",
    "# Aggregate according to date / make separate thread list |> P flag\n",
    "# Split test_train_split \n",
    "print(df.head)\n",
    "df.to_csv(file_name)\n",
    "unique_users = len(df.replier.unique())"
   ]
  },
  {
   "cell_type": "markdown",
   "metadata": {},
   "source": [
    "# Indexing of words in vocab"
   ]
  },
  {
   "cell_type": "code",
   "execution_count": 24,
   "metadata": {},
   "outputs": [
    {
     "name": "stdout",
     "output_type": "stream",
     "text": [
      "[']', '[', '=', 'package', 'database', 'url', 'debian', 'not', 'write', 'on', '>', ' ', '<', '-pron-', 'have', 'release', 'bug', 'file', 'fix', 'number', 'need', 'the', 'upgrade', 'install', 'application', '|', 'list', 'be', 'maintainer', 'work', 'upstream', 'provide', 'version', 'this', 'for', '+', 'automate', 'want', 'license', 'run', 'discussion', '⠀', 'comic', 'available', 'system', 'would', 'like', 'issue', '`', 'key', 'dh', 'common', 'datum', 'tool', 'hi', 'font', 'start', 'time', '.buildinfo', 'look', 'practice', 'failure', 'build', 'severity', '-[number', 'author', 'description', 'sudo', 'filetype]ument', 'know', 'try', 'apt', 'developer', 'policy', 'what', 'upload', 'include', 'curl', 'test', 'library', 'make', 'bash', 'process', 'remove', 'consider', 'project', 'we', 'think', 'buster', 'case', 'sans', 'maintain', 'point', 'security', 'gnome', 'there', 'reply', 'number]pm', 'wnpp', 'owner', 'wishlist', 'programming', 'lang', 'tue', 'download', 'dbconfig', 'persistent', 'cache', 'assistance', 'lot', 'example', 'follow', 'change', 'update', 'require', 'apr', 'etc', 'python', 'packages', 'node', 'gulp', 'find', 'stretch', 'source', 'regards', 'configuration', 'ask', 'share', 'sure', 'different', '/var', 'ubuntu', 'machine', 'create', 'relevant', 'as', 'support', 'unstable', 'year', 'team', 'best', 'feature', 'because', 'question', 'dependency', 'libgdamm', 'x', 'thu', 'option', 'local', 'add', 'form', 'paul', 'default', 'quote', 'expect', 'javascript', 'regard', 'give', 'interest', 'set', 'p', 'freeze', 'debconf', 'installation', 'exchange', 'my', 'am', 'get', 'pabs', 'compress', 'software', 'value', 'control', 'extension', 'base', 'jul', 'stable', 'resume', 'world', 'a', 'adam', 'code', 'number]/[number]/[number', 'forward', 'alioth', 'report', 'manually', 'lib', 'cause', 'automatically', 'when', 'suite', 'real', 'expat', 'js', 'pull', 'that', 'mon', 'pm', 'number]am', 'thing', 'repository', 'public', 'right', 'agree', 'display', 'contain', 'debhelper', 'non', 'program', 'script', 'text', 'lzip', 'please', 'scope', 'relational', 'prompt', 'underlie', 'administrator', 'mail', 'channel', 'desktop', 'environment', '-', 'bye', 'good', 'problem', 'necessary', 'sat', 'will', 'say', 'filetype]umentation', 'ip', 'server', 'reason', 'ago', 'dec', 'plan', 'sun', 'promise', 'rain', 'suspend', 'function', 'end', 'people', 'rule', 'stuart', 'prescott', 'github', 'far', 'u', 'note', 'attempt', 'admin', 'and', 'pure', 'implementation', 'e.g.', 'check', 'd', 'your', 'talk', 'dear', 'thank', 'response', 'chance', 'come', 'access', 'turn', 'match', 'readme', 'recommends', 'jun', 'take', 'probably', 'write[person', 'specific', 'ben', 'numb', 'alexander', 'wirt', 'login', 't', 'new', 'choice', 'apply', 'fontconfig', 'handle', 'while', 'possible', 'concern', 'primary', 'allow', 'advice', 'pavlo', 'solntsev', 'folk', 'experimental', 'prefer', 'idea', 'index', 'swap', 'place', 'iterate', 'random', 'seek', 'deb.li/jak', 'jak-linux.org', 'free', 'dev', 'core', 'oct', 'hilko', 'bengen', 'bengen@debian.org', 'block', 'rob', 'richardson', 'depends', 'pip', 'similar', 'relation', 'private', 'both', 'you', 'break', 'long', 'happy', 'marc', 'infrastructure', 'but', 'topic', 'late', 'day', 'happen', 'why', 'systemd', 'these', 'stuart@debian.org', 'dpkg', 'export', 'dh_curl_sudo_shell', 'future', 'high', '⢀', '⣴', '⠾', '⠻', '⢶', '⣦', '⣾', '⠁', '⠒', '⣿', '⡁', '⢿', '⡄', '⠘', '⠷', '⠚', '⠋', 'email', 'b', 'intend', 'd.', 'barratt', 'however', 'mar', 'fabian', 'neue', 'casual', 'present', 'information', 'love', 'somebody', 'replace', 'product', 'thread', 'cc', 'sean', 'finney', 'applications', 'rely', 'storage', 'primarily', 'denial', 'service', 'unusable', 'examples', 'removal', 'packagename', 'perform', 'ability', 'opt', 'return', 'reconfiguration', 'modification', 'safely', 'recommend', 'just', 'fine', 'diffie[person]llman', 'diffie', 'hellman', 'bn.js', 'seriously', 'request', 'does', 'hibernation', 'challenge', 'jhbuild', '/usr', 'call', 'comment', 'series', 'true', 'mb', 'especially', 'some', 'begin', 'notice', 'sep', 'afif', 'given', 'argue', 'typical', 'certainly', 'jonas', 'ambiguity', '/etc', 'link', 'laptop', 'interface', 'do[person', 'addition', 'hutchings', 'alex', 'commit', 'wide', 'interact', 'state', 'entirely', 'related', 'appear', 'philipp', 'with', 'redundant', 'current', 'target', 'prevent', 'restrictive', 'avoid', 'greffrath', 'design', '’s', 'typeface', 'part', 'shirish', 'शिरीष', 'stop', 'format', 'execution', 'action', 'great', 'result', 'operation', 'spirit', 'log', 'astro', 'care', 'language', 'critical', 'repo', 'big', 'development[person', 'thanks', 'sent', 'evolution', 'gnu', 'www.debian.org', 'i', '\"', 'evo-', 'contents', 'elghraoui', 'continue', 'hint', 'aid', 'jvieira[number]@sapo.pt', 'suggest', 'term', 'context', 'page[person', 'page', 'simply', 'discuss', 'manager', 'read', 'remember', 'kind', 'andreas', 'command', 'commit[me]ssage', '-gtk', 'ok', 'canonical', 'adoption', 'soon', 'cu', 'adrian[person]s', 'ling', 'tan', 'suddenly', 'darkness', 'only', 'lao', 'er', 'sort', 'guess', 'url][person', 't[number', 'stuff', '🐁', 'anymore', 'configure', 'way', 'awful.key', 'awful.util.spawn(\"xbacklight', 'life', 'post', 'gitlab', 'meow', '⢠', 'let', 'go', 'note[person', 'colin', 'fri', 'toolchain', 'sans.conf', 'remake', 'domesticate', 'section', 'repositoryformat', 'wiki', 'somewhat', 'tarballs', 'previous', 'to', 'proceed', 'transitional', 'game', 'safe', 'bignum', 'prime', 'constant', 'which', 'want[me]e', 'mia', 'dear[day]end[person', 'development', 'debian[person][me]e', 'gnome[person', 'contribute', 'basically', 'lay', 'plane', 'library[person][me]e', 'for[person', 'repo[person', 'module[person', 'flatpak', 'figure[me]e', 'experience', 'matt[person]lpful', 'wise', 'lz[number', 'october', 'artful', 'acquiregzipindexes', 'false', 'gb', 'space', 'break[person', 'mass', 'purpose[person', 'equivalent', 'codesearch.d.n', 'ubuntu[person', 'search[person', 'hope', 'performance', 'regression', 'record', 'emulate', 'decompression', 'fix[person]f', 'decompress', 'devel[me]er', 'opinions', 'julian', 'andres', 'klode', 'uncompressed', 'flow', 'vinyl', 'object', 'condition', 'relationship', 'setuptools[me]tadata', 'install_requires', 'extras_require', 'map', 'suggests', 'period', 'instruct[me]er', 'person]f', 'networkx', 'graphic', 'justify', 'fyi[person', 'sympy', 'insane', 'chain', 'ghislain', 'valuable', 'smedegaard', 'position', 'decide', 'absolute', 'holger', 'not[me]e', 'no', 'courtesy', 'copy', 'haber', 'questions', 'mailadresse', 'header', 'mannheim', 'germany', 'beginning', 'wisdom', 'guido', 'huge', 'mattia', 'rizzolo', 'usecases', 'people[day]nge', 'topic[me]er', 'binary', 'plan[me]e', 'tool(s', 'allow[me]er', 'location', 'mirror', 'buildinfo.debian.net[person]f', 'desire', 'seamlessly', 'leak', 'place[person]s', 'sig', 'repos', 'unattended', 'likely', 'answer', 'chris', 'lamb', 'suppose', 'do', 'claim', 'browser', 'unfix', 'hello', 'source-)packages', 'historic', 'show[person', 'exact', 'version[person', 'deny', 'permission', 'mirror.ftp-master.debian.org', 'cd', 'projectb', 'most', 'nikolaus', 'rath', 'lenovo', 'currently', 'general', 'acpi', 'window', 'bite', 'lars', 'wirzenius', 'liw@liw.fi', 'bsd', 'clause', 'posix[person]ll', 'perl', 'system[me]thod', 'distribution', 'sequence', 'running', 'reconfigure', 'devscripts[me]can', 'embed', 'postinst', 'correct', 'example[me]age', '$', '--buildsystem', 'curl_sudo_bash', 'curl_sudo_bash.watch', 'completeness[person]ll', 'select', 'variable', 'mksh', 'permit', 'non-)packaged', 'anticipate', 'developers', 'quality', 'obsoletes', 'http', 'accept', 'king', 'intent', 'upload[person]f', 'u[person]f', 'otoh', 'early', 'follow[me]ual', 'srinivas', 'pandruvada', 'srinivas.pandruvada@linux.intel.com', 'date', 'fabian@debian.org', 'craig', 'rozynski', 'sil', 'open', 'otf', 'shortcoming', 'ubiquitous', 'aspire', 'typographically', 'savvy', 'squash', 'wonky[person]ird', 'glyph', 'beat', 'shape', 'honesty', 'popular', 'perfect', 'face', 'mark', 'while[person', 'alioth[person', 'newish', 'ugly', 'pro', 'con', 'discuss[person', 'able', 'converse', 'survey', 'consumption', 'can', 'tell', 'forge', 'pagure', 'mature', 'foss', 'commercial', 'aspect', 'hurry', 'today', 'clock', 'tick', 'may', 'nice', 'scenario', 'agarwal', 'अग्रवाल', 'mariabisen@gmail.com', 'nearly', 'see', 'e', 'mail[me]an', 'application[me]e', 'handle[person]n', 'bug[person', 'inclusion[person]ll', 'these[person]ll', 'debian.[filetype]²', 'after', 'consult', 'audience', 'debconf[person', 'alter', 'policy[person]n', 'say[person', 'second', 'proposal', 'maintainer[person', 'bug¹', 'ease', 'reader', 'chapter', 'outside', 'encompass', 'storage[me]chanism', 'effectively', 'large', 'application[person]n', 'narrow', 'effective', 'terminology', 'type', 'reconstitute', 'also', 'category', 'application[person]b', 'openldap', 'slapd', 'rrd', 'accumulate', 'historical', 'cached', 'group', 'sufficiently', 'regenerate', 'locate', 'nameserver', 'placement', 'fall', 'define', 'guideline', 'fhs', 'respectively', 'address[person]nstallation', 'relate', 'divide', 'acceptable', 'behavior', 'outline', 'automatic', 'prompting[person]t', 'assume', 'he', 'she', 'equal', 'priority', 'mind', 'direction', 'database[person]nstallation', 'error', 'any', 'negative', 'infinite', 'loop', 'occur', 'noninteractive', 'properly', 'reinstallation', 'reinstall', 'overwrite', 'exist', 'upgrading', 'occasionally', 'database[person]f', 'assist', 'guarantee', 'reattempt', 'respect', 'furthermore', 'backup', 'ultimately', 'exit', 'transactional', 'highly', 'preserve', 'essential', 'easy', 'framework', 'more', 'filetype]umention', 'filetype', 'rfc[person]ll', 'rfc', 'infrastracture', 'gevers', 'reasonable', 'jeremy', 'bicha', 'retire', 'game[me]tapackage', 'far[person', 'wheezy', 'jessie', 'same', 'drop', 'introduce', 'app', '€', 'evgeni', 'golov', 'anton', 'gladky', 'maintainter', 'l.d.o', 'address', 'rouca@debian.org', 'debbugs', 'debian-devel@lists.debian.org', 'calvin', 'metcalf', 'h', 'specific[me]thod', 'securely', 'cryptographic', 'exchange[me]thod', 'party', 'prior', 'knowledge', 'jointly', 'establish', 'secret', 'insecure', 'encrypt', 'subsequent', 'communication', 'symmetric', 'cipher', 'crypto', 'christian', 'moving', '-devel', 'severity[person]t', 'prepare', 'ahead', 'nmu', 'lower', 'such', 'attitude', 'casually', 'disappoint', 'fresh', 'keyboard', 'frustrate', 'reject[me]mbership', 'suitable[me]rge', 'limitation', 'need[me]mber', 'kern', 'patch', 'developer[person', 'actually[me]an', 'man', 'implement[me]an', 'buggy', 'fix[person', 'ask[person', 'bugreport[me]wsusp', 'i[number', 'eeepc', 'disk', 'okay[person', 'reload', 'image', 'reset', 'bios', 'ask[person]mo', 'bad', 'initramfs', 'kernel', 'back', 'freeze[me]an', 'inhibit', 'upcoming', 'clear[person', '~/', '/opt', 'runtime', '.deb', 'personally[person', 'choose', 'possibly', 'leave', 'definitely', 'actually', 'half[person]ek', 'number]st', 'number]rd[person', 'manage', 'one', 'mistake', 'compare', 'vs', 'save', 'stream', 'quoting', 'vaillant', 'align', 'evolve', 'resolve', 'an', 'idealist[person]nternet', 'arkitekt', 'tlf', 'website', 'freely', 'reuse', 'nonsense', 'however[me]e', 'root', 'unix[person', 'both[me]e', 'deeply', 'entrench', 'nix', 'culture', 'new[me]er', 'learn', 'disambiguate', 'explanation', 'presume', 'attempt[person]lp', 'educate', 'newcomer', 'root[me]er', 'home', 'don', 'armstrong', 'addr', 'short', 'l', 'cheer', 'depite', 'router', 'desktops', 'network', 'care[person', 'router[person', 'debian[person', 'multiple', 'name[me]h', 'phone', 'günther', 'confirm[person', 'time[person', 'source.chanegs', 'alongside', 'arch>.changes', 'miss[person', 'pbuilder', '--cowbuilder', 'git', 'buildpackage', 'schrieb', 'simon', 'mcvittie', 'boot', 'so', 'fit', '-gkt', 'disable', 'adrian', 'mirrors', 'proof', 'of-', 'concept', 'expose', 'reproducibility', 'end[me]er', 'src', 'case[person', 'slightly', 'focus', 'hat', 'happen[person', 'completely', 'leader', 'lamby@debian.org', 'chris-lamb.co.uk', 'dsas', 'main', 'hahn', 'snapshot.d.o', 'approximately', 'api', 'maybe', 'wrong[person', 'debian.org', 'debian[me]mbership', 'btw', 'write[person][person]bm', 'years', 'major', 'apm', 'optimus', 'grafic', 'pita', 'waste[day]ey[person', 'ton', 'hot', 'plug', 'monitor', 'digital', 'port', 'hdmi', 'dvi', 'dp', 'typically', 'box', 'detect', 'gnome[number][person]ts', 'filetype]k', 'work[person]ll', 'script[me]e', 'xrandr', 'shuffle', 'hotkeys', 'logout', 'procedure', 'functionality', 'flo', 'florian', 'lohoff', 'f@zz.de', 'utf-[number', '🐈', 'away', 'switch', 'sysvinit', 'x[number', 'deal', 'xf[number]monbrightnessdown', 'xf[number]monbrightnessup', 'modkey', '-set', 'matt', 'n-[number', 'convert', 'https', 'urls', 'firewall[me]er', 'connection', 'poorly', 'mitmed[person]t', 'unexpected', 'ftbfs', 'certificate', 'expire', 'collisions', 'shmolisions', 'collision', 'wait', 'are', 'ping', 'propose', 'unstable[wwhh', '-[number].[number', 'thermald', 'yay[person', 'available[person', 'here', 'wip', '.--====', 'conf.avail/[number]-comic', 'xml', 'version=\"[number].[number', 'doctype', 'fonts.dtd', 'name=\"family\"><string', 'ms</string></test', 'edit', 'name=\"family', 'mode=\"assign', 'binding=\"strong', 'string', 'neue</string', '/edit', '/match', '/fontconfig', 'symlinked', 'conf.d/[number]-comic', 'desc', 'hostile', 'mine', 'horrible', 'wrong', 'revile', 'stay', 'actually[me]e', 'substitution', 'install[person]lp', 'survive[person]aponized[me]e', 'libressl', 'announcement', 'html', 'aunt', 'june', 'person]e', 'offense', 'punishable', 'shoot', 'dance', 'grave', 'foreign', 'palatable', 'dog', 'chase', '⢰', 'animal', 'hang', 'lick', 'scratch', 'cats', 'immediately', 'hey', 'status', 'afaict[me]ntion', 'spec', 'page[person]s', 'way[person]lp', 'hardcoding', 'manpages.d.o', 'describe', 'url]#manpages.debian.org', 'mailinglist', 'final', 'countdown', 'stable[person]ekend', 'discretion', 'gcc', 'adopt', 'elbrus@debian.org', 'write[person]t', 'ago[person]n', 'increasingly', 'uncool', 'bother', 'removal[person', 'comment[person', 'tendency', 'reflect', 'greetings', 'input', 'sounds', 'jonathan', 'dowland', '⠈', '⠳', '⣄', 'cc[person', 'subscribe', 'maintainers', 'address[person', 'bastien', 'roucaries', 'write[person]s', 'from', 'page[me]e', 'complicate', 'not[me]ntion', 'peruse', 'exponentiation', 'field', 'gear', 'size[person]f', 'openssl', 'bn_exp.c', 'bn_mod_exp_mont_consttime', 'time[me]mory', 'layout', 'organize[person', 'interpret', 'suspect', 'brain', 'power', \"bn.js's\", 'red.pow', 'straight', 'goal', 'generic', 'test[person', 'believe', 'susceptible', 'attack', 'rationale', 'sparse', 'generate', 'critical[me]e', 'academic', 'play', 'actual', 'protocol', 'jits', 'designing', 'algorithm', 'browserify', 'pirate', 'praveen', 'matt[person]t', 'similarly[person', 'inaction', 'disagreement', 'feel', 'fairly', 'straightforward', 'consensual', 'revert', 'upstream[person', 'suitable', 'hash', 'potential', 'disagreement[[number', \"cc'ing\", 'accept[person', 'hans', 'link[person]lp', 'url]#s', 'testing', 'url]#testing', 'url][person]n', 'practice[me]an', 'decide[me]an', 'progress', 'transition', 'increase', 'migration', 'approval', 'important', 'freeze[person]t[me]eful', 'diagnose', 'close[person]t', 'generally[person]ll', 'ask[person]lp', 'debian[me]er', 'diagnosis', 'figure', 'note[me]wsusp', 'hibernation[person]irc[person]t', 'remove[me]wsusp', 'issue[person]n', 'addition[me]wsusp', 'miss', 'could', 'rodolfo', 'garcía', 'peñas', 'kix', 'url]#mia', 'qa', 'bugs', 'qualify', 'initial', 'discover', 'quick', 'easily[person', 'rebuild', 'libgda', 'glib[person]t', 'doable', 'understand[person', 'solution', 'will[person', 'runtime[person][person', 'standard', 'process[person]t', 'solve', 'pzwfnbuvfmtcxyta', 'suggestion', 'serve', 'many', 'test[me]thodology[person', 'sources', 'ternary', 'على', 'الثلاثاء', 'حزيران', '\\u202b[number]،', 'كتب', 'upstream[person]ll', 'strong', 'sense', 'عفيف', 'الغراوي', 'josé', 'vieira', 'fyi', 'anyone', 'passwd', 'rename', 'directory[person', 'automation', 'expectation', 'directory[person]f', 'directory', '/root', 'directory[person]lp[person]f', 'clarify', 'levsen', 'holger@layer-acht.org', 'still', 'elderly', 'family[me]mber', 'energy', 'drain', 'grüße', 'um', 'tille', 'setup', '~/.gbp.conf', 'trick', 'source.changes', 'you[me]e', 'line', 'option(s', 'gmt+[number', 'formorer@formorer.de', 'skip', '@lists.alioth.debian.org', 'how', 'reproducible', 'delay', 'reproduce', 'architecture', 'package[me]er', 'visible', 'instead', 'aim', 'guarantess', 'certain', 'wtf', 'relatively', 'hard', 'exploit', 'worrisome[me]er', 'engine', 'cves', 'write[person]n', 'pool', 'url][person]lp', 'like[person]ll', 'steve', 'mcintyre', 'cambridge', 'uk', 'steve@einval.com', 'sensation', 'find[person', 'flawlessly', 'linux', 'personally', 'implement', 'modern', 'hardware', 'event[me]eful[person]f', 'acpid', 'install[me]ually', 'event', 'event[day]itor', 'xev', 'tool[person]t', 'manager[me]eful', 'basic', 'instance', 'point[person', 'awesomewm', 'rc.lua', '-dec', '-inc', 'currently[person]ntel', 'kms', 'driver', 'xbacklight', 'get[me]eful[person', 'want[person', 'xrander', 'tell[person', 'past', 'fujitsu', 'siemens', 'lifebook', 'e[number', 'hp', 'cheap', 'crappy', 'battery', 'sometimes', 'fiddle', 'kde', 'ron', 'person][me]an', 'practical', 'c++', 'dozen', 'understand', 'pretty', 'lie', 'borowski', 'kilobyte@angband.pl', 'minute[person]s', 'joke', 'execute', 'web', 'site', 'batch', 'languages', 'eo', 'ru', 'en', 'hour[person]f', 'plain', 'diff', 'urgent', 'double', 'land', 'number]f[number]be[number]d[number]d[number]f[number]b[number]d[number]c[number]f[number]ca[number]cdcb[number]e[number', 'number]a[number]d[number]b[number]f[number]b[number]c[number]ff[number]cc[number', 'deprecate', 'number]dcc[number]a[number]d[number]e[number]a[number]a[number]bb[number]f[number]ea', 'kabylake', 'broadwell', 'gt', 'processor', 'model', 'fail', 'montag', 'den', 'borowski[person', 'comicneue', 'foundry', 'yes', 'ufo', 'font[person', 'contrib', 'apart', 'course', 'invite', 'co', 'pkg', 'umbrella', 'yes[person', 'entry', 'replacement', 'would[me]e', 'o_o', 'wow', 'hurt', 'cheers', 'michael', 'stapelberg', 'archive[me]eful', 'api.ftp-master.d.o', 'url][person]f', 'avialable', 'bit', 'archive', 'interresting', 'confident', 'formorer', 'resist', 'sale', 'groeten', 'geert', 'stappers', 'oh', 'consume', 'repackage[person', 'they', 'host', 'debian[me]e', 'format[person]n', 'word', 'fake', 'decision', 'unlikely', 'native', 'tarball', 'widespread[me]e', 'pattern', 'lzma[person', 'premature', 'lzma', 'repeat', 'extremely', 'conservative', 'forever', 'phase', 'difficult', 'shameful', 'ping[person]s', 'shy', 'afaict', 'game[me]ta', 'mehdi', 'dogguy', 'me]hdi@dogguy.org', 'fully', 'agree[person]t', 'nonfunctional', 'simple', 'restore', 'astronomy', 'unique', 'adress', 'principle', 'prominently', 'contact[person]n', 'maintainers@alioth.d.o', 'danger', 'lose', 'confirmation', '@lists.d.o', 'subscription', 'tracker.d.o', 'grain', 'possibility', 'team[me]ually', 'contact', 'human[person', 'robot', 'seiler', 'christian@iwakd.de', 'fat', 'warn', 'safety', 'crypto[person', 'unease[me]e', 'readme.debian', 'because[person', 'single', 'inflate', 'severity[person]naction[me]an', 'understand[person]f', 'rc', 'well[person', 'bts', 'read[person', 'post[person]rc', 'receive', 'response[person', 'join', 'think[person', 'effort', 'reach', 'directly', 're', 'freeze[me]an[me]wsusp', 'systemd*.', 'ftr', 'be[me]wsusp']\n"
     ]
    }
   ],
   "source": [
    "words = Counter()\n",
    "for sent in df.body.values:\n",
    "    words.update(w.text.lower() for w in nlp(sent))\n",
    "# print(words)\n",
    "\n",
    "words = sorted(words, key=words.get, reverse=True)\n",
    "print(words)\n",
    "words = ['_PAD','_UNK'] + words\n",
    "\n",
    "word2idx = {o:i for i,o in enumerate(words)}\n",
    "idx2word = {i:o for i,o in enumerate(words)}\n",
    "def indexer(s): return [word2idx[w.text.lower()] for w in nlp(s)]"
   ]
  },
  {
   "cell_type": "markdown",
   "metadata": {},
   "source": [
    "# Dataset Loading"
   ]
  },
  {
   "cell_type": "code",
   "execution_count": 25,
   "metadata": {},
   "outputs": [],
   "source": [
    "# embedding |> flag\n",
    "class VectorizeData(Dataset):\n",
    "    def __init__(self, df_path, maxlen=10):\n",
    "        self.df = pd.read_csv(df_path, error_bad_lines=False)\n",
    "        self.df['body'] = self.df.body.apply(lambda x: x.strip())\n",
    "        print('Indexing...')\n",
    "        self.df['bodyidx'] = self.df.body.apply(indexer)\n",
    "        print('Calculating lengths')\n",
    "        self.df['lengths'] = self.df.bodyidx.apply(len)\n",
    "        self.maxlen = max(self.df['lengths'])\n",
    "        print(self.maxlen)\n",
    "        print('Padding')\n",
    "        self.df['bodypadded'] = self.df.bodyidx.apply(self.pad_data)\n",
    "        \n",
    "    def __len__(self):\n",
    "        return self.df.shape[0]\n",
    "    \n",
    "    def __getitem__(self, idx):\n",
    "        X = self.df.bodypadded[idx]\n",
    "        lens = self.df.lengths[idx]\n",
    "        y = self.df.replier[idx]\n",
    "        return X,y,lens\n",
    "    \n",
    "    def pad_data(self, s):\n",
    "        padded = np.zeros((self.maxlen,), dtype=np.int64)\n",
    "        if len(s) > self.maxlen: padded[:] = s[:self.maxlen]\n",
    "        else: padded[:len(s)] = s\n",
    "        return padded"
   ]
  },
  {
   "cell_type": "code",
   "execution_count": 26,
   "metadata": {},
   "outputs": [
    {
     "name": "stdout",
     "output_type": "stream",
     "text": [
      "Indexing...\n",
      "Calculating lengths\n",
      "710\n",
      "Padding\n"
     ]
    }
   ],
   "source": [
    "ds = VectorizeData(file_name)"
   ]
  },
  {
   "cell_type": "code",
   "execution_count": 27,
   "metadata": {},
   "outputs": [],
   "source": [
    "input_size = ds.maxlen\n",
    "hidden_size = 30\n",
    "num_classes = unique_users\n",
    "num_epochs = 5\n",
    "batch_size = 1\n",
    "learning_rate = 0.001\n",
    "device = torch.device('cuda' if torch.cuda.is_available() else 'cpu')"
   ]
  },
  {
   "cell_type": "code",
   "execution_count": 28,
   "metadata": {},
   "outputs": [],
   "source": [
    "# concatenate user vector\n",
    "# embeddings |>\n",
    "class NeuralNet(nn.Module):\n",
    "    def __init__(self, input_size, hidden_size, num_classes):\n",
    "        super(NeuralNet, self).__init__()\n",
    "        self.fc1 = nn.Linear(input_size, hidden_size) \n",
    "        self.relu = nn.ReLU()\n",
    "        self.fc2 = nn.Linear(hidden_size, num_classes)  \n",
    "    \n",
    "    def forward(self, x):\n",
    "#         x = torch.FloatTensor(x)\n",
    "        out = self.fc1(x)\n",
    "        out = self.relu(out)\n",
    "        out = self.fc2(out)\n",
    "        return out"
   ]
  },
  {
   "cell_type": "code",
   "execution_count": 32,
   "metadata": {},
   "outputs": [],
   "source": [
    "model = NeuralNet(input_size, hidden_size, num_classes).to(device)\n",
    "# Loss and optimizer\n",
    "criterion = nn.CrossEntropyLoss()\n",
    "opt = torch.optim.Adam(model.parameters(), lr=learning_rate)  "
   ]
  },
  {
   "cell_type": "code",
   "execution_count": 33,
   "metadata": {},
   "outputs": [
    {
     "data": {
      "application/vnd.jupyter.widget-view+json": {
       "model_id": "d7fd65101e8942afb77333c9e96607ef",
       "version_major": 2,
       "version_minor": 0
      },
      "text/html": [
       "<p>Failed to display Jupyter Widget of type <code>HBox</code>.</p>\n",
       "<p>\n",
       "  If you're reading this message in the Jupyter Notebook or JupyterLab Notebook, it may mean\n",
       "  that the widgets JavaScript is still loading. If this message persists, it\n",
       "  likely means that the widgets JavaScript library is either not installed or\n",
       "  not enabled. See the <a href=\"https://ipywidgets.readthedocs.io/en/stable/user_install.html\">Jupyter\n",
       "  Widgets Documentation</a> for setup instructions.\n",
       "</p>\n",
       "<p>\n",
       "  If you're reading this message in another frontend (for example, a static\n",
       "  rendering on GitHub or <a href=\"https://nbviewer.jupyter.org/\">NBViewer</a>),\n",
       "  it may mean that your frontend doesn't currently support widgets.\n",
       "</p>\n"
      ],
      "text/plain": [
       "HBox(children=(IntProgress(value=0, max=63), HTML(value='')))"
      ]
     },
     "metadata": {},
     "output_type": "display_data"
    },
    {
     "name": "stdout",
     "output_type": "stream",
     "text": [
      "\r",
      " Epoch 0: Train loss: -32.8299446105957 acc: 0.031746031746031744\n"
     ]
    },
    {
     "data": {
      "application/vnd.jupyter.widget-view+json": {
       "model_id": "39053cbae1ca4640b6277c805f14f10e",
       "version_major": 2,
       "version_minor": 0
      },
      "text/html": [
       "<p>Failed to display Jupyter Widget of type <code>HBox</code>.</p>\n",
       "<p>\n",
       "  If you're reading this message in the Jupyter Notebook or JupyterLab Notebook, it may mean\n",
       "  that the widgets JavaScript is still loading. If this message persists, it\n",
       "  likely means that the widgets JavaScript library is either not installed or\n",
       "  not enabled. See the <a href=\"https://ipywidgets.readthedocs.io/en/stable/user_install.html\">Jupyter\n",
       "  Widgets Documentation</a> for setup instructions.\n",
       "</p>\n",
       "<p>\n",
       "  If you're reading this message in another frontend (for example, a static\n",
       "  rendering on GitHub or <a href=\"https://nbviewer.jupyter.org/\">NBViewer</a>),\n",
       "  it may mean that your frontend doesn't currently support widgets.\n",
       "</p>\n"
      ],
      "text/plain": [
       "HBox(children=(IntProgress(value=0, max=63), HTML(value='')))"
      ]
     },
     "metadata": {},
     "output_type": "display_data"
    },
    {
     "name": "stdout",
     "output_type": "stream",
     "text": [
      "\r",
      " Epoch 1: Train loss: -367.3641357421875 acc: 0.07936507936507936\n"
     ]
    },
    {
     "data": {
      "application/vnd.jupyter.widget-view+json": {
       "model_id": "326168c3c0be416e9dfff42f9779a21e",
       "version_major": 2,
       "version_minor": 0
      },
      "text/html": [
       "<p>Failed to display Jupyter Widget of type <code>HBox</code>.</p>\n",
       "<p>\n",
       "  If you're reading this message in the Jupyter Notebook or JupyterLab Notebook, it may mean\n",
       "  that the widgets JavaScript is still loading. If this message persists, it\n",
       "  likely means that the widgets JavaScript library is either not installed or\n",
       "  not enabled. See the <a href=\"https://ipywidgets.readthedocs.io/en/stable/user_install.html\">Jupyter\n",
       "  Widgets Documentation</a> for setup instructions.\n",
       "</p>\n",
       "<p>\n",
       "  If you're reading this message in another frontend (for example, a static\n",
       "  rendering on GitHub or <a href=\"https://nbviewer.jupyter.org/\">NBViewer</a>),\n",
       "  it may mean that your frontend doesn't currently support widgets.\n",
       "</p>\n"
      ],
      "text/plain": [
       "HBox(children=(IntProgress(value=0, max=63), HTML(value='')))"
      ]
     },
     "metadata": {},
     "output_type": "display_data"
    },
    {
     "name": "stdout",
     "output_type": "stream",
     "text": [
      "\r",
      " Epoch 2: Train loss: -937.3109130859375 acc: 0.12698412698412698\n"
     ]
    },
    {
     "data": {
      "application/vnd.jupyter.widget-view+json": {
       "model_id": "5bf7f9fe64a24739af675ffbe6fcadb5",
       "version_major": 2,
       "version_minor": 0
      },
      "text/html": [
       "<p>Failed to display Jupyter Widget of type <code>HBox</code>.</p>\n",
       "<p>\n",
       "  If you're reading this message in the Jupyter Notebook or JupyterLab Notebook, it may mean\n",
       "  that the widgets JavaScript is still loading. If this message persists, it\n",
       "  likely means that the widgets JavaScript library is either not installed or\n",
       "  not enabled. See the <a href=\"https://ipywidgets.readthedocs.io/en/stable/user_install.html\">Jupyter\n",
       "  Widgets Documentation</a> for setup instructions.\n",
       "</p>\n",
       "<p>\n",
       "  If you're reading this message in another frontend (for example, a static\n",
       "  rendering on GitHub or <a href=\"https://nbviewer.jupyter.org/\">NBViewer</a>),\n",
       "  it may mean that your frontend doesn't currently support widgets.\n",
       "</p>\n"
      ],
      "text/plain": [
       "HBox(children=(IntProgress(value=0, max=63), HTML(value='')))"
      ]
     },
     "metadata": {},
     "output_type": "display_data"
    },
    {
     "name": "stdout",
     "output_type": "stream",
     "text": [
      "\r",
      " Epoch 3: Train loss: -1878.892822265625 acc: 0.14285714285714285\n"
     ]
    },
    {
     "data": {
      "application/vnd.jupyter.widget-view+json": {
       "model_id": "bb960424973649c5859e9a32fe1e44b0",
       "version_major": 2,
       "version_minor": 0
      },
      "text/html": [
       "<p>Failed to display Jupyter Widget of type <code>HBox</code>.</p>\n",
       "<p>\n",
       "  If you're reading this message in the Jupyter Notebook or JupyterLab Notebook, it may mean\n",
       "  that the widgets JavaScript is still loading. If this message persists, it\n",
       "  likely means that the widgets JavaScript library is either not installed or\n",
       "  not enabled. See the <a href=\"https://ipywidgets.readthedocs.io/en/stable/user_install.html\">Jupyter\n",
       "  Widgets Documentation</a> for setup instructions.\n",
       "</p>\n",
       "<p>\n",
       "  If you're reading this message in another frontend (for example, a static\n",
       "  rendering on GitHub or <a href=\"https://nbviewer.jupyter.org/\">NBViewer</a>),\n",
       "  it may mean that your frontend doesn't currently support widgets.\n",
       "</p>\n"
      ],
      "text/plain": [
       "HBox(children=(IntProgress(value=0, max=63), HTML(value='')))"
      ]
     },
     "metadata": {},
     "output_type": "display_data"
    },
    {
     "name": "stdout",
     "output_type": "stream",
     "text": [
      "\r",
      " Epoch 4: Train loss: -3369.987060546875 acc: 0.1111111111111111\n"
     ]
    }
   ],
   "source": [
    "train_dl= DataLoader(ds, batch_size=1)\n",
    "num_batch = len(train_dl)\n",
    "for epoch in range(num_epochs):\n",
    "    y_true_train = list()\n",
    "    y_pred_train = list()\n",
    "    total_loss_train = 0\n",
    "    t = tqdm_notebook(iter(train_dl), leave=False, total=num_batch)\n",
    "    for X,y, lengths in t:\n",
    "    #     X = X.transpose(0,1)\n",
    "        X = Variable(X.cpu())\n",
    "        y = Variable(y.cpu())\n",
    "        lengths = lengths.numpy()\n",
    "\n",
    "        opt.zero_grad()\n",
    "        X = X.float()\n",
    "        pred = model(X)\n",
    "        # F.nll_loss can be replaced with criterion\n",
    "        loss = F.nll_loss(pred, y)\n",
    "        loss.backward()\n",
    "        opt.step()\n",
    "\n",
    "        t.set_postfix(loss=loss.data[0])\n",
    "        pred_idx = torch.max(pred, dim=1)[1]\n",
    "\n",
    "        y_true_train += list(y.cpu().data.numpy())\n",
    "        y_pred_train += list(pred_idx.cpu().data.numpy())\n",
    "        total_loss_train += loss.data[0]\n",
    "\n",
    "    train_acc = accuracy_score(y_true_train, y_pred_train)\n",
    "    train_loss = total_loss_train/len(train_dl)\n",
    "    print(f' Epoch {epoch}: Train loss: {train_loss} acc: {train_acc}')\n",
    "#Accuracy\n",
    "# hyperparameter tuning\n",
    "#Testing\n",
    "# architecture testing"
   ]
  },
  {
   "cell_type": "code",
   "execution_count": null,
   "metadata": {},
   "outputs": [],
   "source": []
  }
 ],
 "metadata": {
  "kernelspec": {
   "display_name": "Python 3",
   "language": "python",
   "name": "python3"
  },
  "language_info": {
   "codemirror_mode": {
    "name": "ipython",
    "version": 3
   },
   "file_extension": ".py",
   "mimetype": "text/x-python",
   "name": "python",
   "nbconvert_exporter": "python",
   "pygments_lexer": "ipython3",
   "version": "3.6.4"
  }
 },
 "nbformat": 4,
 "nbformat_minor": 2
}
