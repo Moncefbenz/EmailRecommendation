{
 "cells": [
  {
   "cell_type": "code",
   "execution_count": 13,
   "metadata": {},
   "outputs": [],
   "source": [
    "import email, glob\n",
    "import pandas as pd\n",
    "from flanker import mime\n",
    "import string\n",
    "import re\n",
    "import numpy as np\n",
    "from sklearn.preprocessing import OneHotEncoder\n",
    "from sklearn.preprocessing import LabelEncoder\n",
    "from pprint import pprint\n",
    "import sys\n",
    "import matplotlib.pyplot as plt\n",
    "import seaborn as sns\n",
    "from sklearn.model_selection import train_test_split\n",
    "from keras.models import Model\n",
    "from keras.layers import LSTM, Activation, Dense, Dropout, Input, Embedding\n",
    "from keras.optimizers import RMSprop\n",
    "from keras.preprocessing.text import Tokenizer\n",
    "from keras.preprocessing import sequence\n",
    "from keras.utils import to_categorical\n",
    "from keras.callbacks import EarlyStopping\n",
    "%matplotlib inline"
   ]
  },
  {
   "cell_type": "code",
   "execution_count": 14,
   "metadata": {},
   "outputs": [],
   "source": [
    "def remove_content_in_braces(msg) :\n",
    "\tmsg1 = ''\n",
    "\tcnt = 0\n",
    "\tfor char in msg :\n",
    "\t\tif char == '{' :\n",
    "\t\t\tcnt += 1\n",
    "\t\telif char == '}' :\n",
    "\t\t\tcnt -= 1\n",
    "\t\telif cnt == 0 :\n",
    "\t\t\tmsg1 += char\n",
    "\t\telse :\n",
    "\t\t\tcontinue\n",
    "\treturn msg1\n",
    "\n",
    "def remove_func_and_struct(msg) :\n",
    "\tmsg1 = ''\n",
    "\ttake_line = True\n",
    "\tmsg = msg.splitlines()\n",
    "\tfor line in msg :\n",
    "\t\ttake_line = True\n",
    "\t\tif line == '' :\n",
    "\t\t\tcontinue\n",
    "\t\twords = line.split(' ')\n",
    "\t\tif words[0] == \"func\" :\n",
    "\t\t\ttake_line = False\n",
    "\t\telif words[0] == \"type\" :\n",
    "\t\t\tif len(words)  >= 3  and words[2] == \"struct\" :\n",
    "\t\t\t\ttake_line = False\n",
    "\t\tif take_line :\n",
    "\t\t\tmsg1 += (line + '\\n')\n",
    "\treturn msg1\n",
    "\n",
    "def remove_other_code_lines(msg) :\n",
    "\tmsg1 = ''\n",
    "\ttake_line = True\n",
    "\tmsg = msg.splitlines()\n",
    "\ti = 0\t\n",
    "\twhile i < len(msg) :\n",
    "\t\tif (msg[i] == '') or (\"//\" in msg[i]) :\n",
    "\t\t\ti += 1\n",
    "\t\t\tcontinue\n",
    "\t\ttake_line = True\n",
    "\t\tline = msg[i]\n",
    "\t\tif \"package\" in line :\n",
    "\t\t\twords = line.split(' ')\n",
    "\t\t\tif len(words) < 4 :\n",
    "\t\t\t\ttake_line = False\n",
    "\t\telif \"import\" in line :\n",
    "\t\t\twords = line.split(' ')\n",
    "\t\t\tif len(words) < 4 :\n",
    "\t\t\t\ttake_line = False\n",
    "\t\t\t\tif \"(\" in line :\n",
    "\t\t\t\t\twhile ')' not in msg[i] :\n",
    "\t\t\t\t\t\ti += 1\n",
    "\t\telif \"const\" in line :\n",
    "\t\t\twords = line.split(' ')\n",
    "\t\t\tif len(words) < 4 :\n",
    "\t\t\t\ttake_line = False\n",
    "\t\t\t\tif \"(\" in line :\n",
    "\t\t\t\t\twhile ')' not in msg[i] :\n",
    "\t\t\t\t\t\ti += 1\n",
    "\t\tif take_line :\n",
    "\t\t\tmsg1 += line + '\\n'\n",
    "\t\ti += 1\n",
    "\treturn msg1\n",
    "\n",
    "\n",
    "def remove_code(msg) :\n",
    "\tmsg = (remove_content_in_braces(msg))\n",
    "\tmsg = (remove_func_and_struct(msg))\n",
    "\tmsg = (remove_other_code_lines(msg))\n",
    "\treturn msg\n",
    "\n",
    "def get_header(msg):\n",
    "    msg = email.message_from_string(msg)\n",
    "    mfrom = msg['From'].split('<')[0]\n",
    "    return mfrom\n",
    "    \n",
    "def flan(msg):\n",
    "    rt = ''\n",
    "    msg = mime.from_string(msg)\n",
    "    if msg.content_type.is_singlepart():\n",
    "      temp = str(msg.body)\n",
    "      temp = temp.splitlines()\n",
    "      for _ in temp:\n",
    "          if _.startswith('>'):\n",
    "              continue\n",
    "          elif _.startswith('On'):\n",
    "              continue\n",
    "          else:\n",
    "              rt+=_+\"\\n\"\n",
    "    else :\n",
    "      for part in msg.parts :\n",
    "          if \"(text/plain)\" in str(part) :\n",
    "              temp = str(part.body)\n",
    "              temp = temp.splitlines()\n",
    "              for _ in temp :\n",
    "                  if _.startswith('>') :\n",
    "                      continue\n",
    "                  if _.startswith('On'):\n",
    "                      continue\n",
    "                  else :\n",
    "                      rt+=_+\"\\n\"\n",
    "    return rt"
   ]
  },
  {
   "cell_type": "code",
   "execution_count": 15,
   "metadata": {},
   "outputs": [],
   "source": [
    "rt =''\n",
    "fpath = \"/home/niki/Downloads/features (4)/Dataset/*/*.email\"\n",
    "files = glob.glob(fpath)\n",
    "for file in files :\n",
    "  f = open(file, \"r\")\n",
    "  msg = f.read()\n",
    "  msg = mime.from_string(msg)\n",
    "  if msg.content_type.is_singlepart():\n",
    "      temp = str(msg.body)\n",
    "      temp = temp.splitlines()\n",
    "      for _ in temp:\n",
    "          if _.startswith('>'):\n",
    "              continue\n",
    "          elif _.startswith('On'):\n",
    "              continue\n",
    "          else:\n",
    "              rt+=_+\"\\n\"\n",
    "  else :\n",
    "      for part in msg.parts :\n",
    "          if \"(text/plain)\" in str(part) :\n",
    "              temp = str(part.body)\n",
    "              temp = temp.splitlines()\n",
    "              for _ in temp :\n",
    "                  if _.startswith('>') :\n",
    "                      continue\n",
    "                  if _.startswith('On'):\n",
    "                      continue\n",
    "                  else :\n",
    "                      rt+=_+\"\\n\"\n",
    "               \n",
    "rt = remove_code(rt)\n",
    "# print(rt)\n",
    "rt = rt.split('\\n')\n",
    "tokenizer = Tokenizer()\n",
    "tokenizer.fit_on_texts(rt)\n",
    "total_words = len(tokenizer.word_index) + 1\n",
    "max_words=total_words"
   ]
  },
  {
   "cell_type": "code",
   "execution_count": 17,
   "metadata": {
    "scrolled": true
   },
   "outputs": [],
   "source": [
    "df = pd.DataFrame(columns=['body','replier'])\n",
    "h = []\n",
    "fpath = \"/home/niki/Downloads/features (4)/Dataset/*\"\n",
    "folder = glob.glob(fpath)\n",
    "\n",
    "for fol in folder:\n",
    "    files = glob.glob(fol+'/*.email')\n",
    "    flag = 0\n",
    "    t = ''\n",
    "    for file in files:\n",
    "        if flag==0:\n",
    "            data = open(file,'r')\n",
    "            temp = data.read()\n",
    "            header = get_header(temp)\n",
    "            temp = flan(temp)\n",
    "            temp = remove_code(temp)\n",
    "            t = temp\n",
    "            flag = 1\n",
    "            h.append(header)\n",
    "            \n",
    "            continue\n",
    "        data = open(file,'r')\n",
    "        temp = data.read()\n",
    "        header = get_header(temp)\n",
    "        h.append(header)\n",
    "        temp = flan(temp)\n",
    "        temp = remove_code(temp)\n",
    "        df = df.append({'body': t,'replier':header}, ignore_index=True)\n",
    "        t = t + temp"
   ]
  },
  {
   "cell_type": "code",
   "execution_count": 18,
   "metadata": {},
   "outputs": [
    {
     "name": "stdout",
     "output_type": "stream",
     "text": [
      "68\n"
     ]
    }
   ],
   "source": [
    "h = df.replier\n",
    "pprint(len(h))\n",
    "h=list(h)"
   ]
  },
  {
   "cell_type": "code",
   "execution_count": 19,
   "metadata": {},
   "outputs": [],
   "source": [
    "np.set_printoptions(threshold = sys.maxsize)\n",
    "val = np.array(h)\n",
    "w = open('one_hot.txt','w')\n",
    "label_encoder = LabelEncoder()\n",
    "integer_encoded = label_encoder.fit_transform(val)\n",
    "one_hot_encoder = OneHotEncoder(sparse=False)\n",
    "integer_encoded = integer_encoded.reshape(len(integer_encoded),1)\n",
    "one_hot_encoded = one_hot_encoder.fit_transform(integer_encoded)\n",
    "output_shape = one_hot_encoded.shape[1]\n",
    "w.write(str(one_hot_encoded))\n",
    "w.close()"
   ]
  },
  {
   "cell_type": "code",
   "execution_count": 20,
   "metadata": {},
   "outputs": [],
   "source": [
    "x_train = df.body\n",
    "# print(x_train)"
   ]
  },
  {
   "cell_type": "code",
   "execution_count": 21,
   "metadata": {},
   "outputs": [],
   "source": [
    "def longest(l):\n",
    "    m=0\n",
    "    for k in l:\n",
    "        m = max(len(k),m)\n",
    "    return m\n",
    "max_len = longest(x_train)"
   ]
  },
  {
   "cell_type": "code",
   "execution_count": 22,
   "metadata": {},
   "outputs": [],
   "source": [
    "# max_words = 1294\n",
    "# max_len = 3267\n",
    "tok = Tokenizer(num_words=max_words)\n",
    "tok.fit_on_texts(x_train)\n",
    "sequences = tok.texts_to_sequences(x_train)\n",
    "sequences_matrix = sequence.pad_sequences(sequences,maxlen=max_len)"
   ]
  },
  {
   "cell_type": "code",
   "execution_count": 23,
   "metadata": {},
   "outputs": [],
   "source": [
    "def RNN():\n",
    "    inputs = Input(name='inputs',shape=[max_len])\n",
    "    layer = Embedding(max_words,50,input_length=max_len)(inputs)\n",
    "    layer = LSTM(64)(layer)\n",
    "    layer = Dense(256,name='FC1')(layer)\n",
    "    layer = Activation('relu')(layer)\n",
    "    layer = Dropout(0.5)(layer)\n",
    "    layer = Dense(output_shape,name='out_layer')(layer)\n",
    "    layer = Activation('sigmoid')(layer)\n",
    "    model = Model(inputs=inputs,outputs=layer)\n",
    "    return model"
   ]
  },
  {
   "cell_type": "code",
   "execution_count": 24,
   "metadata": {},
   "outputs": [
    {
     "name": "stdout",
     "output_type": "stream",
     "text": [
      "_________________________________________________________________\n",
      "Layer (type)                 Output Shape              Param #   \n",
      "=================================================================\n",
      "inputs (InputLayer)          (None, 3267)              0         \n",
      "_________________________________________________________________\n",
      "embedding_2 (Embedding)      (None, 3267, 50)          63950     \n",
      "_________________________________________________________________\n",
      "lstm_2 (LSTM)                (None, 64)                29440     \n",
      "_________________________________________________________________\n",
      "FC1 (Dense)                  (None, 256)               16640     \n",
      "_________________________________________________________________\n",
      "activation_3 (Activation)    (None, 256)               0         \n",
      "_________________________________________________________________\n",
      "dropout_2 (Dropout)          (None, 256)               0         \n",
      "_________________________________________________________________\n",
      "out_layer (Dense)            (None, 32)                8224      \n",
      "_________________________________________________________________\n",
      "activation_4 (Activation)    (None, 32)                0         \n",
      "=================================================================\n",
      "Total params: 118,254\n",
      "Trainable params: 118,254\n",
      "Non-trainable params: 0\n",
      "_________________________________________________________________\n"
     ]
    }
   ],
   "source": [
    "model = RNN()\n",
    "model.summary()\n",
    "model.compile(loss='binary_crossentropy',optimizer=RMSprop(),metrics=['accuracy'])"
   ]
  },
  {
   "cell_type": "code",
   "execution_count": 25,
   "metadata": {},
   "outputs": [
    {
     "name": "stdout",
     "output_type": "stream",
     "text": [
      "Train on 54 samples, validate on 14 samples\n",
      "Epoch 1/10\n",
      "54/54 [==============================] - 5s 88ms/step - loss: 0.6929 - acc: 0.5203 - val_loss: 0.6876 - val_acc: 0.9420\n",
      "Epoch 2/10\n",
      "54/54 [==============================] - 2s 42ms/step - loss: 0.6869 - acc: 0.9103 - val_loss: 0.6788 - val_acc: 0.9688\n",
      "Epoch 3/10\n",
      "54/54 [==============================] - 2s 39ms/step - loss: 0.6774 - acc: 0.9358 - val_loss: 0.6609 - val_acc: 0.9688\n",
      "Epoch 4/10\n",
      "54/54 [==============================] - 2s 41ms/step - loss: 0.6559 - acc: 0.9462 - val_loss: 0.6043 - val_acc: 0.9688\n",
      "Epoch 5/10\n",
      "54/54 [==============================] - 3s 58ms/step - loss: 0.5866 - acc: 0.9497 - val_loss: 0.3470 - val_acc: 0.9688\n",
      "Epoch 6/10\n",
      "54/54 [==============================] - 3s 47ms/step - loss: 0.3401 - acc: 0.9595 - val_loss: 0.1932 - val_acc: 0.9688\n",
      "Epoch 7/10\n",
      "54/54 [==============================] - 3s 56ms/step - loss: 0.1997 - acc: 0.9630 - val_loss: 0.1636 - val_acc: 0.9688\n",
      "Epoch 8/10\n",
      "54/54 [==============================] - 3s 58ms/step - loss: 0.1712 - acc: 0.9688 - val_loss: 0.1535 - val_acc: 0.9688\n",
      "Epoch 9/10\n",
      "54/54 [==============================] - 4s 72ms/step - loss: 0.1603 - acc: 0.9676 - val_loss: 0.1510 - val_acc: 0.9688\n",
      "Epoch 10/10\n",
      "54/54 [==============================] - 3s 58ms/step - loss: 0.1524 - acc: 0.9682 - val_loss: 0.1502 - val_acc: 0.9688\n"
     ]
    },
    {
     "data": {
      "text/plain": [
       "<keras.callbacks.History at 0x7f13791ffa90>"
      ]
     },
     "execution_count": 25,
     "metadata": {},
     "output_type": "execute_result"
    }
   ],
   "source": [
    "model.fit(sequences_matrix,one_hot_encoded,batch_size=128,epochs=10,\n",
    "          validation_split=0.2,callbacks=[EarlyStopping(monitor='val_loss',min_delta=0.0001)])"
   ]
  },
  {
   "cell_type": "code",
   "execution_count": null,
   "metadata": {},
   "outputs": [],
   "source": []
  }
 ],
 "metadata": {
  "kernelspec": {
   "display_name": "Python 3",
   "language": "python",
   "name": "python3"
  },
  "language_info": {
   "codemirror_mode": {
    "name": "ipython",
    "version": 3
   },
   "file_extension": ".py",
   "mimetype": "text/x-python",
   "name": "python",
   "nbconvert_exporter": "python",
   "pygments_lexer": "ipython3",
   "version": "3.6.4"
  }
 },
 "nbformat": 4,
 "nbformat_minor": 2
}
